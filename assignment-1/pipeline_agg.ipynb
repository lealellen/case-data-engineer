{
 "cells": [
  {
   "cell_type": "markdown",
   "metadata": {
    "application/vnd.databricks.v1+cell": {
     "cellMetadata": {
      "byteLimit": 2048000,
      "rowLimit": 10000
     },
     "inputWidgets": {},
     "nuid": "85168e2d-ae96-4a9d-b628-8d8a6237cb47",
     "showTitle": false,
     "tableResultSettingsMap": {},
     "title": ""
    }
   },
   "source": [
    "## 1. Inicialização do Ambiente\n",
    "\n",
    "Importação de pacotes, configuração da SparkSession e definiçao de variáveis.\n"
   ]
  },
  {
   "cell_type": "code",
   "execution_count": 0,
   "metadata": {
    "application/vnd.databricks.v1+cell": {
     "cellMetadata": {
      "byteLimit": 2048000,
      "rowLimit": 10000
     },
     "inputWidgets": {},
     "nuid": "2ec81cfb-e488-4239-9ed1-1cc50c712c37",
     "showTitle": false,
     "tableResultSettingsMap": {},
     "title": ""
    }
   },
   "outputs": [],
   "source": [
    "from pyspark.sql import SparkSession\n",
    "from pyspark.sql.functions import (\n",
    "    to_timestamp, date_format, when, count, sum as spark_sum,\n",
    "    max as spark_max, min as spark_min, avg as spark_avg, col, expr\n",
    ")"
   ]
  },
  {
   "cell_type": "code",
   "execution_count": 0,
   "metadata": {
    "application/vnd.databricks.v1+cell": {
     "cellMetadata": {
      "byteLimit": 2048000,
      "rowLimit": 10000
     },
     "inputWidgets": {},
     "nuid": "0b19ac76-6470-4189-a766-8a8827bf2e33",
     "showTitle": false,
     "tableResultSettingsMap": {},
     "title": ""
    }
   },
   "outputs": [],
   "source": [
    "spark = SparkSession.builder.appName(\"PipelineTransporte\").getOrCreate()"
   ]
  },
  {
   "cell_type": "code",
   "execution_count": 0,
   "metadata": {
    "application/vnd.databricks.v1+cell": {
     "cellMetadata": {
      "byteLimit": 2048000,
      "rowLimit": 10000
     },
     "inputWidgets": {},
     "nuid": "71b9141b-ed3a-47b8-80d4-ef061243fe55",
     "showTitle": false,
     "tableResultSettingsMap": {},
     "title": ""
    }
   },
   "outputs": [],
   "source": [
    "PATH_BRONZE = \"/Volumes/workspace/default/assignment-1/bronze\"\n",
    "PATH_SILVER = \"/Volumes/workspace/default/assignment-1/silver\"\n",
    "PATH_GOLD = \"/Volumes/workspace/default/assignment-1/gold\"\n",
    "PATH_LOGS = \"/Volumes/workspace/default/assignment-1/logs_datas_invalidas\""
   ]
  },
  {
   "cell_type": "markdown",
   "metadata": {
    "application/vnd.databricks.v1+cell": {
     "cellMetadata": {
      "byteLimit": 2048000,
      "rowLimit": 10000
     },
     "inputWidgets": {},
     "nuid": "56bd165c-f15e-411d-9ef1-fc45d905fb92",
     "showTitle": false,
     "tableResultSettingsMap": {},
     "title": ""
    }
   },
   "source": [
    "## 2. Ingestão dos Dados (Bronze) e Análise Exploratória\n",
    "\n",
    "Leitura do arquivo CSV original e exploração inicial dos dados."
   ]
  },
  {
   "cell_type": "code",
   "execution_count": 0,
   "metadata": {
    "application/vnd.databricks.v1+cell": {
     "cellMetadata": {
      "byteLimit": 2048000,
      "rowLimit": 10000
     },
     "inputWidgets": {},
     "nuid": "63433cd2-7685-4717-ae82-04c72eb9858c",
     "showTitle": false,
     "tableResultSettingsMap": {},
     "title": ""
    }
   },
   "outputs": [],
   "source": [
    "# Dados de entrada\n",
    "raw = \"/Volumes/workspace/default/assignment-1/info_transportes.csv\"\n",
    "\n",
    "# Leitura dos dados brutos\n",
    "bronze = spark.read.csv(raw, header=True, inferSchema=True, sep=\";\")\n",
    "\n",
    "# Salva os dados brutos no formato parquet\n",
    "bronze.write.mode(\"overwrite\").parquet(PATH_BRONZE)"
   ]
  },
  {
   "cell_type": "code",
   "execution_count": 0,
   "metadata": {
    "application/vnd.databricks.v1+cell": {
     "cellMetadata": {
      "byteLimit": 2048000,
      "rowLimit": 10000
     },
     "inputWidgets": {},
     "nuid": "6d727390-459e-456a-84b7-408493a03233",
     "showTitle": false,
     "tableResultSettingsMap": {},
     "title": ""
    }
   },
   "outputs": [
    {
     "output_type": "stream",
     "name": "stdout",
     "output_type": "stream",
     "text": [
      "Esquema do DataFrame:\nroot\n |-- DATA_INICIO: string (nullable = true)\n |-- DATA_FIM: string (nullable = true)\n |-- CATEGORIA: string (nullable = true)\n |-- LOCAL_INICIO: string (nullable = true)\n |-- LOCAL_FIM: string (nullable = true)\n |-- DISTANCIA: integer (nullable = true)\n |-- PROPOSITO: string (nullable = true)\n\nExemplo de linhas:\n+----------------+----------------+---------+------------+---------------+---------+-----------------+\n|     DATA_INICIO|        DATA_FIM|CATEGORIA|LOCAL_INICIO|      LOCAL_FIM|DISTANCIA|        PROPOSITO|\n+----------------+----------------+---------+------------+---------------+---------+-----------------+\n|01-01-2016 21:11|01-01-2016 21:17|  Negocio| Fort Pierce|    Fort Pierce|       51|      Alimentação|\n|01-02-2016 01:25|01-02-2016 01:37|  Negocio| Fort Pierce|    Fort Pierce|        5|             NULL|\n|01-02-2016 20:25|01-02-2016 20:38|  Negocio| Fort Pierce|    Fort Pierce|       48|         Entregas|\n|01-05-2016 17:31|01-05-2016 17:45|  Negocio| Fort Pierce|    Fort Pierce|       47|          Reunião|\n|01-06-2016 14:42|01-06-2016 15:49|  Negocio| Fort Pierce|West Palm Beach|      637|Visita ao cliente|\n+----------------+----------------+---------+------------+---------------+---------+-----------------+\nonly showing top 5 rows\nQuantidade de linhas e colunas:\nLinhas: 1153, Colunas: 7\nValores nulos por coluna:\n+-----------+--------+---------+------------+---------+---------+---------+\n|DATA_INICIO|DATA_FIM|CATEGORIA|LOCAL_INICIO|LOCAL_FIM|DISTANCIA|PROPOSITO|\n+-----------+--------+---------+------------+---------+---------+---------+\n|          0|       0|        0|           0|        0|        0|      502|\n+-----------+--------+---------+------------+---------+---------+---------+\n\nValores unicos em colunas categóricas:\n+---------+\n|CATEGORIA|\n+---------+\n|  Pessoal|\n|  Negocio|\n+---------+\n\n+-----------------+\n|        PROPOSITO|\n+-----------------+\n|         Entregas|\n|             NULL|\n|      Alimentação|\n|         Caridade|\n|Entre escritórios|\n|Parada temporária|\n|          Reunião|\n| Aeroporto/Viagem|\n|     Deslocamento|\n|Visita ao cliente|\n+-----------------+\n\nEstatísticas básicas da coluna DISTANCIA:\n+-------+------------------+\n|summary|         DISTANCIA|\n+-------+------------------+\n|  count|              1153|\n|   mean| 91.82827406764962|\n| stddev|193.97606434857082|\n|    min|                 1|\n|    max|              3103|\n+-------+------------------+\n\n"
     ]
    }
   ],
   "source": [
    "\n",
    "print(\"Esquema do DataFrame:\")\n",
    "bronze.printSchema()\n",
    "\n",
    "print(\"Exemplo de linhas:\")\n",
    "bronze.show(5)\n",
    "\n",
    "print(\"Quantidade de linhas e colunas:\")\n",
    "print(f\"Linhas: {bronze.count()}, Colunas: {len(bronze.columns)}\")\n",
    "\n",
    "print(\"Valores nulos por coluna:\")\n",
    "from pyspark.sql.functions import isnan\n",
    "bronze.select([count(when(col(c).isNull(), c)).alias(c) for c in bronze.columns]).show()\n",
    "\n",
    "print(\"Valores unicos em colunas categóricas:\")\n",
    "bronze.select(\"CATEGORIA\").distinct().show()\n",
    "bronze.select(\"PROPOSITO\").distinct().show()\n",
    "\n",
    "print(\"Estatísticas básicas da coluna DISTANCIA:\")\n",
    "bronze.select(\"DISTANCIA\").describe().show()\n"
   ]
  },
  {
   "cell_type": "markdown",
   "metadata": {
    "application/vnd.databricks.v1+cell": {
     "cellMetadata": {
      "byteLimit": 2048000,
      "rowLimit": 10000
     },
     "inputWidgets": {},
     "nuid": "c941617e-954d-41de-92c7-bb6cc19a944f",
     "showTitle": false,
     "tableResultSettingsMap": {},
     "title": ""
    }
   },
   "source": [
    "## 3. Tratamento de Datas (Silver) e Log de Erros\n",
    "\n",
    "Conversão de datas para timestamp, log dos registros inválidos e criação da coluna de referência."
   ]
  },
  {
   "cell_type": "code",
   "execution_count": 0,
   "metadata": {
    "application/vnd.databricks.v1+cell": {
     "cellMetadata": {
      "byteLimit": 2048000,
      "rowLimit": 10000
     },
     "inputWidgets": {},
     "nuid": "14ca8cb8-ff15-4b7d-9645-7df24bfbd3c3",
     "showTitle": false,
     "tableResultSettingsMap": {},
     "title": ""
    }
   },
   "outputs": [],
   "source": [
    "silver = bronze.withColumn(\n",
    "    \"DATA_INICIO_TS\",\n",
    "    expr(\"try_to_timestamp(DATA_INICIO, 'MM-dd-yyyy H:mm')\")\n",
    ")\n",
    "\n",
    "silver = silver.withColumn(\"DT_REFE\", date_format(col(\"DATA_INICIO_TS\"), \"yyyy-MM-dd\"))\n",
    "\n",
    "# Log para linhas com datas inválidas\n",
    "silver.filter(col(\"DATA_INICIO_TS\").isNull()).write.mode(\"overwrite\").parquet(PATH_LOGS)\n",
    "\n",
    "silver = silver.filter(col(\"DATA_INICIO_TS\").isNotNull())"
   ]
  },
  {
   "cell_type": "markdown",
   "metadata": {
    "application/vnd.databricks.v1+cell": {
     "cellMetadata": {
      "byteLimit": 2048000,
      "rowLimit": 10000
     },
     "inputWidgets": {},
     "nuid": "db4ab5c5-055b-4fcd-afc5-d5da42d874fa",
     "showTitle": false,
     "tableResultSettingsMap": {},
     "title": ""
    }
   },
   "source": [
    "## 4. Criação de Colunas Auxiliares\n",
    "\n",
    "Criação de colunas flags para agregações condicionais."
   ]
  },
  {
   "cell_type": "code",
   "execution_count": 0,
   "metadata": {
    "application/vnd.databricks.v1+cell": {
     "cellMetadata": {
      "byteLimit": 2048000,
      "rowLimit": 10000
     },
     "inputWidgets": {},
     "nuid": "25f26c8a-4199-4ee7-9e3a-7aba0bfb2621",
     "showTitle": false,
     "tableResultSettingsMap": {},
     "title": ""
    }
   },
   "outputs": [],
   "source": [
    "silver = silver.withColumn(\n",
    "    \"IS_NEGOCIO\", when(col(\"CATEGORIA\") == \"Negocio\", 1).otherwise(0)\n",
    ").withColumn(\n",
    "    \"IS_PESSOAL\", when(col(\"CATEGORIA\") == \"Pessoal\", 1).otherwise(0)\n",
    ").withColumn(\n",
    "    \"IS_REUNIAO\", when(col(\"PROPOSITO\") == \"Reunião\", 1).otherwise(0)\n",
    ").withColumn(\n",
    "    \"IS_NAO_REUNIAO\", when(\n",
    "        (col(\"PROPOSITO\").isNotNull()) & (col(\"PROPOSITO\") != \"Reunião\"),\n",
    "        1\n",
    "    ).otherwise(0)\n",
    ")\n",
    "\n",
    "# Salva os dados da camada Silver em formato parquet\n",
    "silver.write.mode(\"overwrite\").parquet(PATH_SILVER)"
   ]
  },
  {
   "cell_type": "code",
   "execution_count": 0,
   "metadata": {
    "application/vnd.databricks.v1+cell": {
     "cellMetadata": {
      "byteLimit": 2048000,
      "rowLimit": 10000
     },
     "inputWidgets": {},
     "nuid": "d5f9a9df-bbce-44fa-a2e8-bdebf9113590",
     "showTitle": false,
     "tableResultSettingsMap": {},
     "title": ""
    }
   },
   "outputs": [
    {
     "output_type": "display_data",
     "data": {
      "text/html": [
       "<style scoped>\n",
       "  .table-result-container {\n",
       "    max-height: 300px;\n",
       "    overflow: auto;\n",
       "  }\n",
       "  table, th, td {\n",
       "    border: 1px solid black;\n",
       "    border-collapse: collapse;\n",
       "  }\n",
       "  th, td {\n",
       "    padding: 5px;\n",
       "  }\n",
       "  th {\n",
       "    text-align: left;\n",
       "  }\n",
       "</style><div class='table-result-container'><table class='table-result'><thead style='background-color: white'><tr><th>DATA_INICIO</th><th>DATA_FIM</th><th>CATEGORIA</th><th>LOCAL_INICIO</th><th>LOCAL_FIM</th><th>DISTANCIA</th><th>PROPOSITO</th><th>DATA_INICIO_TS</th><th>DT_REFE</th><th>IS_NEGOCIO</th><th>IS_PESSOAL</th><th>IS_REUNIAO</th><th>IS_NAO_REUNIAO</th></tr></thead><tbody><tr><td>01-01-2016 21:11</td><td>01-01-2016 21:17</td><td>Negocio</td><td>Fort Pierce</td><td>Fort Pierce</td><td>51</td><td>Alimentação</td><td>2016-01-01T21:11:00.000Z</td><td>2016-01-01</td><td>1</td><td>0</td><td>0</td><td>1</td></tr><tr><td>01-02-2016 01:25</td><td>01-02-2016 01:37</td><td>Negocio</td><td>Fort Pierce</td><td>Fort Pierce</td><td>5</td><td>null</td><td>2016-01-02T01:25:00.000Z</td><td>2016-01-02</td><td>1</td><td>0</td><td>0</td><td>0</td></tr><tr><td>01-02-2016 20:25</td><td>01-02-2016 20:38</td><td>Negocio</td><td>Fort Pierce</td><td>Fort Pierce</td><td>48</td><td>Entregas</td><td>2016-01-02T20:25:00.000Z</td><td>2016-01-02</td><td>1</td><td>0</td><td>0</td><td>1</td></tr><tr><td>01-05-2016 17:31</td><td>01-05-2016 17:45</td><td>Negocio</td><td>Fort Pierce</td><td>Fort Pierce</td><td>47</td><td>Reunião</td><td>2016-01-05T17:31:00.000Z</td><td>2016-01-05</td><td>1</td><td>0</td><td>1</td><td>0</td></tr><tr><td>01-06-2016 14:42</td><td>01-06-2016 15:49</td><td>Negocio</td><td>Fort Pierce</td><td>West Palm Beach</td><td>637</td><td>Visita ao cliente</td><td>2016-01-06T14:42:00.000Z</td><td>2016-01-06</td><td>1</td><td>0</td><td>0</td><td>1</td></tr><tr><td>01-06-2016 17:15</td><td>01-06-2016 17:19</td><td>Negocio</td><td>West Palm Beach</td><td>West Palm Beach</td><td>43</td><td>Alimentação</td><td>2016-01-06T17:15:00.000Z</td><td>2016-01-06</td><td>1</td><td>0</td><td>0</td><td>1</td></tr><tr><td>01-06-2016 17:30</td><td>01-06-2016 17:35</td><td>Negocio</td><td>West Palm Beach</td><td>Palm Beach</td><td>71</td><td>Reunião</td><td>2016-01-06T17:30:00.000Z</td><td>2016-01-06</td><td>1</td><td>0</td><td>1</td><td>0</td></tr><tr><td>01-07-2016 13:27</td><td>01-07-2016 13:33</td><td>Negocio</td><td>Cary</td><td>Cary</td><td>8</td><td>Reunião</td><td>2016-01-07T13:27:00.000Z</td><td>2016-01-07</td><td>1</td><td>0</td><td>1</td><td>0</td></tr><tr><td>01-10-2016 08:05</td><td>01-10-2016 08:25</td><td>Negocio</td><td>Cary</td><td>Morrisville</td><td>83</td><td>Reunião</td><td>2016-01-10T08:05:00.000Z</td><td>2016-01-10</td><td>1</td><td>0</td><td>1</td><td>0</td></tr><tr><td>01-10-2016 12:17</td><td>01-10-2016 12:44</td><td>Negocio</td><td>Jamaica</td><td>New York</td><td>165</td><td>Visita ao cliente</td><td>2016-01-10T12:17:00.000Z</td><td>2016-01-10</td><td>1</td><td>0</td><td>0</td><td>1</td></tr></tbody></table></div>"
      ]
     },
     "metadata": {
      "application/vnd.databricks.v1+output": {
       "addedWidgets": {},
       "aggData": [],
       "aggError": "",
       "aggOverflow": false,
       "aggSchema": [],
       "aggSeriesLimitReached": false,
       "aggType": "",
       "arguments": {},
       "columnCustomDisplayInfos": {},
       "data": [
        [
         "01-01-2016 21:11",
         "01-01-2016 21:17",
         "Negocio",
         "Fort Pierce",
         "Fort Pierce",
         51,
         "Alimentação",
         "2016-01-01T21:11:00.000Z",
         "2016-01-01",
         1,
         0,
         0,
         1
        ],
        [
         "01-02-2016 01:25",
         "01-02-2016 01:37",
         "Negocio",
         "Fort Pierce",
         "Fort Pierce",
         5,
         null,
         "2016-01-02T01:25:00.000Z",
         "2016-01-02",
         1,
         0,
         0,
         0
        ],
        [
         "01-02-2016 20:25",
         "01-02-2016 20:38",
         "Negocio",
         "Fort Pierce",
         "Fort Pierce",
         48,
         "Entregas",
         "2016-01-02T20:25:00.000Z",
         "2016-01-02",
         1,
         0,
         0,
         1
        ],
        [
         "01-05-2016 17:31",
         "01-05-2016 17:45",
         "Negocio",
         "Fort Pierce",
         "Fort Pierce",
         47,
         "Reunião",
         "2016-01-05T17:31:00.000Z",
         "2016-01-05",
         1,
         0,
         1,
         0
        ],
        [
         "01-06-2016 14:42",
         "01-06-2016 15:49",
         "Negocio",
         "Fort Pierce",
         "West Palm Beach",
         637,
         "Visita ao cliente",
         "2016-01-06T14:42:00.000Z",
         "2016-01-06",
         1,
         0,
         0,
         1
        ],
        [
         "01-06-2016 17:15",
         "01-06-2016 17:19",
         "Negocio",
         "West Palm Beach",
         "West Palm Beach",
         43,
         "Alimentação",
         "2016-01-06T17:15:00.000Z",
         "2016-01-06",
         1,
         0,
         0,
         1
        ],
        [
         "01-06-2016 17:30",
         "01-06-2016 17:35",
         "Negocio",
         "West Palm Beach",
         "Palm Beach",
         71,
         "Reunião",
         "2016-01-06T17:30:00.000Z",
         "2016-01-06",
         1,
         0,
         1,
         0
        ],
        [
         "01-07-2016 13:27",
         "01-07-2016 13:33",
         "Negocio",
         "Cary",
         "Cary",
         8,
         "Reunião",
         "2016-01-07T13:27:00.000Z",
         "2016-01-07",
         1,
         0,
         1,
         0
        ],
        [
         "01-10-2016 08:05",
         "01-10-2016 08:25",
         "Negocio",
         "Cary",
         "Morrisville",
         83,
         "Reunião",
         "2016-01-10T08:05:00.000Z",
         "2016-01-10",
         1,
         0,
         1,
         0
        ],
        [
         "01-10-2016 12:17",
         "01-10-2016 12:44",
         "Negocio",
         "Jamaica",
         "New York",
         165,
         "Visita ao cliente",
         "2016-01-10T12:17:00.000Z",
         "2016-01-10",
         1,
         0,
         0,
         1
        ]
       ],
       "datasetInfos": [],
       "dbfsResultPath": null,
       "isJsonSchema": true,
       "metadata": {},
       "overflow": false,
       "plotOptions": {
        "customPlotOptions": {},
        "displayType": "table",
        "pivotAggregation": null,
        "pivotColumns": null,
        "xColumns": null,
        "yColumns": null
       },
       "removedWidgets": [],
       "schema": [
        {
         "metadata": "{}",
         "name": "DATA_INICIO",
         "type": "\"string\""
        },
        {
         "metadata": "{}",
         "name": "DATA_FIM",
         "type": "\"string\""
        },
        {
         "metadata": "{}",
         "name": "CATEGORIA",
         "type": "\"string\""
        },
        {
         "metadata": "{}",
         "name": "LOCAL_INICIO",
         "type": "\"string\""
        },
        {
         "metadata": "{}",
         "name": "LOCAL_FIM",
         "type": "\"string\""
        },
        {
         "metadata": "{}",
         "name": "DISTANCIA",
         "type": "\"integer\""
        },
        {
         "metadata": "{}",
         "name": "PROPOSITO",
         "type": "\"string\""
        },
        {
         "metadata": "{}",
         "name": "DATA_INICIO_TS",
         "type": "\"timestamp\""
        },
        {
         "metadata": "{}",
         "name": "DT_REFE",
         "type": "\"string\""
        },
        {
         "metadata": "{}",
         "name": "IS_NEGOCIO",
         "type": "\"integer\""
        },
        {
         "metadata": "{}",
         "name": "IS_PESSOAL",
         "type": "\"integer\""
        },
        {
         "metadata": "{}",
         "name": "IS_REUNIAO",
         "type": "\"integer\""
        },
        {
         "metadata": "{}",
         "name": "IS_NAO_REUNIAO",
         "type": "\"integer\""
        }
       ],
       "type": "table"
      }
     },
     "output_type": "display_data"
    }
   ],
   "source": [
    "display(silver.limit(10))"
   ]
  },
  {
   "cell_type": "markdown",
   "metadata": {
    "application/vnd.databricks.v1+cell": {
     "cellMetadata": {
      "byteLimit": 2048000,
      "rowLimit": 10000
     },
     "inputWidgets": {},
     "nuid": "994df5cb-b4f5-4a53-8154-d36bb007bf75",
     "showTitle": false,
     "tableResultSettingsMap": {},
     "title": ""
    }
   },
   "source": [
    "## 5. Agregação das Métricas Diárias (Gold)\n",
    "\n",
    "Geração da tabela final agregada por data de referência."
   ]
  },
  {
   "cell_type": "code",
   "execution_count": 0,
   "metadata": {
    "application/vnd.databricks.v1+cell": {
     "cellMetadata": {
      "byteLimit": 2048000,
      "rowLimit": 10000
     },
     "inputWidgets": {},
     "nuid": "75bf03cd-6b07-4585-96a7-06a0aa0dfc53",
     "showTitle": false,
     "tableResultSettingsMap": {},
     "title": ""
    }
   },
   "outputs": [],
   "source": [
    "gold = silver.groupBy(\"DT_REFE\").agg(\n",
    "    count(\"*\").alias(\"QT_CORR\"),\n",
    "    spark_sum(\"IS_NEGOCIO\").alias(\"QT_CORR_NEG\"),\n",
    "    spark_sum(\"IS_PESSOAL\").alias(\"QT_CORR_PESS\"),\n",
    "    spark_max(\"DISTANCIA\").alias(\"VL_MAX_DIST\"),\n",
    "    spark_min(\"DISTANCIA\").alias(\"VL_MIN_DIST\"),\n",
    "    spark_avg(\"DISTANCIA\").alias(\"VL_AVG_DIST\"),\n",
    "    spark_sum(\"IS_REUNIAO\").alias(\"QT_CORR_REUNI\"),\n",
    "    spark_sum(\"IS_NAO_REUNIAO\").alias(\"QT_CORR_NAO_REUNI\"),\n",
    ")"
   ]
  },
  {
   "cell_type": "code",
   "execution_count": 0,
   "metadata": {
    "application/vnd.databricks.v1+cell": {
     "cellMetadata": {
      "byteLimit": 2048000,
      "rowLimit": 10000
     },
     "inputWidgets": {},
     "nuid": "a6403f90-a255-4988-9a24-75f168ceb360",
     "showTitle": false,
     "tableResultSettingsMap": {},
     "title": ""
    }
   },
   "outputs": [],
   "source": [
    "# Salva os dados da camada Gold em formato em uma tabela Hive\n",
    "gold.write.mode(\"overwrite\").saveAsTable(\"info_corridas_do_dia\")"
   ]
  },
  {
   "cell_type": "markdown",
   "metadata": {
    "application/vnd.databricks.v1+cell": {
     "cellMetadata": {},
     "inputWidgets": {},
     "nuid": "fd5c30ce-75e2-40e4-9bdd-ba5c575b100c",
     "showTitle": false,
     "tableResultSettingsMap": {},
     "title": ""
    }
   },
   "source": [
    "### Tabela final do pipeline, com métricas diárias resumidas das corridas, separadas por categoria, propósito e estatísticas de distância."
   ]
  },
  {
   "cell_type": "markdown",
   "metadata": {
    "application/vnd.databricks.v1+cell": {
     "cellMetadata": {},
     "inputWidgets": {},
     "nuid": "9c1269be-6a0e-4bb4-b453-ed703cbe162f",
     "showTitle": false,
     "tableResultSettingsMap": {},
     "title": ""
    }
   },
   "source": [
    "| Nome da Coluna         | Descrição                                                                              |\n",
    "|------------------------|----------------------------------------------------------------------------------------|\n",
    "| DT_REFE                | Data de referência.                                                                    |\n",
    "| QT_CORR                | Quantidade de corridas.                                                                |\n",
    "| QT_CORR_NEG            | Quantidade de corridas com a categoria “Negócio”.                                      |\n",
    "| QT_CORR_PESS           | Quantidade de corridas com a categoria “Pessoal”.                                      |\n",
    "| VL_MAX_DIST            | Maior distância percorrida por uma corrida.                                            |\n",
    "| VL_MIN_DIST            | Menor distância percorrida por uma corrida.                                            |\n",
    "| VL_AVG_DIST            | Média das distâncias percorridas.                                                      |\n",
    "| QT_CORR_REUNI          | Quantidade de corridas com o propósito de \"Reunião\".                                   |\n",
    "| QT_CORR_NAO_REUNI      | Quantidade de corridas com o propósito declarado e diferente de \"Reunião\".             |\n"
   ]
  },
  {
   "cell_type": "code",
   "execution_count": 0,
   "metadata": {
    "application/vnd.databricks.v1+cell": {
     "cellMetadata": {
      "byteLimit": 2048000,
      "rowLimit": 10000
     },
     "inputWidgets": {},
     "nuid": "c4ea30fb-7055-49fe-a32b-a6fa290d773e",
     "showTitle": false,
     "tableResultSettingsMap": {},
     "title": ""
    }
   },
   "outputs": [
    {
     "output_type": "display_data",
     "data": {
      "text/html": [
       "<style scoped>\n",
       "  .table-result-container {\n",
       "    max-height: 300px;\n",
       "    overflow: auto;\n",
       "  }\n",
       "  table, th, td {\n",
       "    border: 1px solid black;\n",
       "    border-collapse: collapse;\n",
       "  }\n",
       "  th, td {\n",
       "    padding: 5px;\n",
       "  }\n",
       "  th {\n",
       "    text-align: left;\n",
       "  }\n",
       "</style><div class='table-result-container'><table class='table-result'><thead style='background-color: white'><tr><th>DT_REFE</th><th>QT_CORR</th><th>QT_CORR_NEG</th><th>QT_CORR_PESS</th><th>VL_MAX_DIST</th><th>VL_MIN_DIST</th><th>VL_AVG_DIST</th><th>QT_CORR_REUNI</th><th>QT_CORR_NAO_REUNI</th></tr></thead><tbody><tr><td>2016-09-30</td><td>2</td><td>2</td><td>0</td><td>377</td><td>167</td><td>272.0</td><td>0</td><td>0</td></tr><tr><td>2016-11-25</td><td>2</td><td>2</td><td>0</td><td>111</td><td>103</td><td>107.0</td><td>2</td><td>0</td></tr><tr><td>2016-08-23</td><td>8</td><td>8</td><td>0</td><td>177</td><td>5</td><td>70.375</td><td>0</td><td>0</td></tr><tr><td>2016-12-19</td><td>11</td><td>11</td><td>0</td><td>102</td><td>7</td><td>45.0</td><td>1</td><td>5</td></tr><tr><td>2016-11-17</td><td>1</td><td>1</td><td>0</td><td>163</td><td>163</td><td>163.0</td><td>0</td><td>1</td></tr><tr><td>2016-02-01</td><td>3</td><td>3</td><td>0</td><td>233</td><td>39</td><td>155.33333333333334</td><td>0</td><td>3</td></tr><tr><td>2016-07-02</td><td>2</td><td>2</td><td>0</td><td>101</td><td>99</td><td>100.0</td><td>2</td><td>0</td></tr><tr><td>2016-11-16</td><td>2</td><td>2</td><td>0</td><td>31</td><td>23</td><td>27.0</td><td>0</td><td>2</td></tr><tr><td>2016-08-07</td><td>4</td><td>4</td><td>0</td><td>27</td><td>25</td><td>26.0</td><td>0</td><td>2</td></tr><tr><td>2016-07-14</td><td>3</td><td>2</td><td>1</td><td>1953</td><td>33</td><td>701.3333333333334</td><td>0</td><td>1</td></tr><tr><td>2016-07-09</td><td>3</td><td>3</td><td>0</td><td>85</td><td>13</td><td>49.0</td><td>0</td><td>0</td></tr><tr><td>2016-08-21</td><td>5</td><td>5</td><td>0</td><td>202</td><td>14</td><td>98.2</td><td>0</td><td>1</td></tr><tr><td>2016-07-30</td><td>2</td><td>2</td><td>0</td><td>133</td><td>14</td><td>73.5</td><td>0</td><td>0</td></tr><tr><td>2016-04-27</td><td>2</td><td>2</td><td>0</td><td>49</td><td>48</td><td>48.5</td><td>0</td><td>2</td></tr><tr><td>2016-06-29</td><td>6</td><td>6</td><td>0</td><td>104</td><td>16</td><td>64.0</td><td>2</td><td>0</td></tr><tr><td>2016-03-03</td><td>5</td><td>4</td><td>1</td><td>173</td><td>22</td><td>69.2</td><td>1</td><td>3</td></tr><tr><td>2016-04-08</td><td>5</td><td>5</td><td>0</td><td>191</td><td>18</td><td>117.4</td><td>3</td><td>2</td></tr><tr><td>2016-12-12</td><td>5</td><td>5</td><td>0</td><td>47</td><td>3</td><td>25.6</td><td>0</td><td>5</td></tr><tr><td>2016-05-16</td><td>5</td><td>5</td><td>0</td><td>145</td><td>15</td><td>90.4</td><td>0</td><td>0</td></tr><tr><td>2016-10-27</td><td>5</td><td>5</td><td>0</td><td>121</td><td>39</td><td>73.0</td><td>1</td><td>0</td></tr></tbody></table></div>"
      ]
     },
     "metadata": {
      "application/vnd.databricks.v1+output": {
       "addedWidgets": {},
       "aggData": [],
       "aggError": "",
       "aggOverflow": false,
       "aggSchema": [],
       "aggSeriesLimitReached": false,
       "aggType": "",
       "arguments": {},
       "columnCustomDisplayInfos": {},
       "data": [
        [
         "2016-09-30",
         2,
         2,
         0,
         377,
         167,
         272.0,
         0,
         0
        ],
        [
         "2016-11-25",
         2,
         2,
         0,
         111,
         103,
         107.0,
         2,
         0
        ],
        [
         "2016-08-23",
         8,
         8,
         0,
         177,
         5,
         70.375,
         0,
         0
        ],
        [
         "2016-12-19",
         11,
         11,
         0,
         102,
         7,
         45.0,
         1,
         5
        ],
        [
         "2016-11-17",
         1,
         1,
         0,
         163,
         163,
         163.0,
         0,
         1
        ],
        [
         "2016-02-01",
         3,
         3,
         0,
         233,
         39,
         155.33333333333334,
         0,
         3
        ],
        [
         "2016-07-02",
         2,
         2,
         0,
         101,
         99,
         100.0,
         2,
         0
        ],
        [
         "2016-11-16",
         2,
         2,
         0,
         31,
         23,
         27.0,
         0,
         2
        ],
        [
         "2016-08-07",
         4,
         4,
         0,
         27,
         25,
         26.0,
         0,
         2
        ],
        [
         "2016-07-14",
         3,
         2,
         1,
         1953,
         33,
         701.3333333333334,
         0,
         1
        ],
        [
         "2016-07-09",
         3,
         3,
         0,
         85,
         13,
         49.0,
         0,
         0
        ],
        [
         "2016-08-21",
         5,
         5,
         0,
         202,
         14,
         98.2,
         0,
         1
        ],
        [
         "2016-07-30",
         2,
         2,
         0,
         133,
         14,
         73.5,
         0,
         0
        ],
        [
         "2016-04-27",
         2,
         2,
         0,
         49,
         48,
         48.5,
         0,
         2
        ],
        [
         "2016-06-29",
         6,
         6,
         0,
         104,
         16,
         64.0,
         2,
         0
        ],
        [
         "2016-03-03",
         5,
         4,
         1,
         173,
         22,
         69.2,
         1,
         3
        ],
        [
         "2016-04-08",
         5,
         5,
         0,
         191,
         18,
         117.4,
         3,
         2
        ],
        [
         "2016-12-12",
         5,
         5,
         0,
         47,
         3,
         25.6,
         0,
         5
        ],
        [
         "2016-05-16",
         5,
         5,
         0,
         145,
         15,
         90.4,
         0,
         0
        ],
        [
         "2016-10-27",
         5,
         5,
         0,
         121,
         39,
         73.0,
         1,
         0
        ]
       ],
       "datasetInfos": [],
       "dbfsResultPath": null,
       "isJsonSchema": true,
       "metadata": {},
       "overflow": false,
       "plotOptions": {
        "customPlotOptions": {},
        "displayType": "table",
        "pivotAggregation": null,
        "pivotColumns": null,
        "xColumns": null,
        "yColumns": null
       },
       "removedWidgets": [],
       "schema": [
        {
         "metadata": "{}",
         "name": "DT_REFE",
         "type": "\"string\""
        },
        {
         "metadata": "{}",
         "name": "QT_CORR",
         "type": "\"long\""
        },
        {
         "metadata": "{}",
         "name": "QT_CORR_NEG",
         "type": "\"long\""
        },
        {
         "metadata": "{}",
         "name": "QT_CORR_PESS",
         "type": "\"long\""
        },
        {
         "metadata": "{}",
         "name": "VL_MAX_DIST",
         "type": "\"integer\""
        },
        {
         "metadata": "{}",
         "name": "VL_MIN_DIST",
         "type": "\"integer\""
        },
        {
         "metadata": "{}",
         "name": "VL_AVG_DIST",
         "type": "\"double\""
        },
        {
         "metadata": "{}",
         "name": "QT_CORR_REUNI",
         "type": "\"long\""
        },
        {
         "metadata": "{}",
         "name": "QT_CORR_NAO_REUNI",
         "type": "\"long\""
        }
       ],
       "type": "table"
      }
     },
     "output_type": "display_data"
    }
   ],
   "source": [
    "display(spark.sql(\"SELECT * FROM info_corridas_do_dia LIMIT 20\"))"
   ]
  }
 ],
 "metadata": {
  "application/vnd.databricks.v1+notebook": {
   "computePreferences": null,
   "dashboards": [],
   "environmentMetadata": {
    "base_environment": "",
    "environment_version": "2"
   },
   "inputWidgetPreferences": null,
   "language": "python",
   "notebookMetadata": {
    "pythonIndentUnit": 4
   },
   "notebookName": "pipeline_agg",
   "widgets": {}
  },
  "language_info": {
   "name": "python"
  }
 },
 "nbformat": 4,
 "nbformat_minor": 0
}