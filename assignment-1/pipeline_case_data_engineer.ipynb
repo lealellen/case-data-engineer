{
 "cells": [
  {
   "cell_type": "markdown",
   "metadata": {
    "application/vnd.databricks.v1+cell": {
     "cellMetadata": {
      "byteLimit": 2048000,
      "rowLimit": 10000
     },
     "inputWidgets": {},
     "nuid": "85168e2d-ae96-4a9d-b628-8d8a6237cb47",
     "showTitle": false,
     "tableResultSettingsMap": {},
     "title": ""
    }
   },
   "source": [
    "## 1. Inicialização do Ambiente\n",
    "\n",
    "Importação de pacotes, configuração da SparkSession e definiçao de variáveis.\n"
   ]
  },
  {
   "cell_type": "code",
   "execution_count": 0,
   "metadata": {
    "application/vnd.databricks.v1+cell": {
     "cellMetadata": {
      "byteLimit": 2048000,
      "rowLimit": 10000
     },
     "inputWidgets": {},
     "nuid": "2ec81cfb-e488-4239-9ed1-1cc50c712c37",
     "showTitle": false,
     "tableResultSettingsMap": {},
     "title": ""
    }
   },
   "outputs": [],
   "source": [
    "from pyspark.sql import SparkSession\n",
    "from pyspark.sql.functions import (\n",
    "    to_timestamp, date_format, when, count, sum as spark_sum,\n",
    "    max as spark_max, min as spark_min, avg as spark_avg, col, expr\n",
    ")"
   ]
  },
  {
   "cell_type": "code",
   "execution_count": 0,
   "metadata": {
    "application/vnd.databricks.v1+cell": {
     "cellMetadata": {
      "byteLimit": 2048000,
      "rowLimit": 10000
     },
     "inputWidgets": {},
     "nuid": "0b19ac76-6470-4189-a766-8a8827bf2e33",
     "showTitle": false,
     "tableResultSettingsMap": {},
     "title": ""
    }
   },
   "outputs": [],
   "source": [
    "spark = SparkSession.builder.appName(\"PipelineTransporte\").getOrCreate()"
   ]
  },
  {
   "cell_type": "code",
   "execution_count": 0,
   "metadata": {
    "application/vnd.databricks.v1+cell": {
     "cellMetadata": {
      "byteLimit": 2048000,
      "rowLimit": 10000
     },
     "inputWidgets": {},
     "nuid": "71b9141b-ed3a-47b8-80d4-ef061243fe55",
     "showTitle": false,
     "tableResultSettingsMap": {},
     "title": ""
    }
   },
   "outputs": [],
   "source": [
    "PATH_BRONZE = \"/Volumes/workspace/default/assignment-1/bronze\"\n",
    "PATH_SILVER = \"/Volumes/workspace/default/assignment-1/silver\"\n",
    "PATH_GOLD = \"/Volumes/workspace/default/assignment-1/gold\"\n",
    "PATH_LOGS = \"/Volumes/workspace/default/assignment-1/logs_datas_invalidas\""
   ]
  },
  {
   "cell_type": "markdown",
   "metadata": {
    "application/vnd.databricks.v1+cell": {
     "cellMetadata": {
      "byteLimit": 2048000,
      "rowLimit": 10000
     },
     "inputWidgets": {},
     "nuid": "56bd165c-f15e-411d-9ef1-fc45d905fb92",
     "showTitle": false,
     "tableResultSettingsMap": {},
     "title": ""
    }
   },
   "source": [
    "## 2. Ingestão dos Dados (Bronze) e Análise Exploratória\n",
    "\n",
    "Leitura do arquivo CSV original e exploração inicial dos dados."
   ]
  },
  {
   "cell_type": "code",
   "execution_count": 0,
   "metadata": {
    "application/vnd.databricks.v1+cell": {
     "cellMetadata": {
      "byteLimit": 2048000,
      "rowLimit": 10000
     },
     "inputWidgets": {},
     "nuid": "63433cd2-7685-4717-ae82-04c72eb9858c",
     "showTitle": false,
     "tableResultSettingsMap": {},
     "title": ""
    }
   },
   "outputs": [],
   "source": [
    "# Dados de entrada\n",
    "raw = \"/Volumes/workspace/default/assignment-1/info_transportes.csv\"\n",
    "\n",
    "# Leitura dos dados brutos\n",
    "bronze = spark.read.csv(raw, header=True, inferSchema=True, sep=\";\")\n",
    "\n",
    "# Salva os dados brutos no formato parquet\n",
    "bronze.write.mode(\"overwrite\").parquet(PATH_BRONZE)"
   ]
  },
  {
   "cell_type": "code",
   "execution_count": 0,
   "metadata": {
    "application/vnd.databricks.v1+cell": {
     "cellMetadata": {
      "byteLimit": 2048000,
      "rowLimit": 10000
     },
     "inputWidgets": {},
     "nuid": "6d727390-459e-456a-84b7-408493a03233",
     "showTitle": false,
     "tableResultSettingsMap": {},
     "title": ""
    }
   },
   "outputs": [
    {
     "output_type": "stream",
     "name": "stdout",
     "output_type": "stream",
     "text": [
      "Esquema do DataFrame:\nroot\n |-- DATA_INICIO: string (nullable = true)\n |-- DATA_FIM: string (nullable = true)\n |-- CATEGORIA: string (nullable = true)\n |-- LOCAL_INICIO: string (nullable = true)\n |-- LOCAL_FIM: string (nullable = true)\n |-- DISTANCIA: integer (nullable = true)\n |-- PROPOSITO: string (nullable = true)\n\nExemplo de linhas:\n+----------------+----------------+---------+------------+---------------+---------+-----------------+\n|     DATA_INICIO|        DATA_FIM|CATEGORIA|LOCAL_INICIO|      LOCAL_FIM|DISTANCIA|        PROPOSITO|\n+----------------+----------------+---------+------------+---------------+---------+-----------------+\n|01-01-2016 21:11|01-01-2016 21:17|  Negocio| Fort Pierce|    Fort Pierce|       51|      Alimentação|\n|01-02-2016 01:25|01-02-2016 01:37|  Negocio| Fort Pierce|    Fort Pierce|        5|             NULL|\n|01-02-2016 20:25|01-02-2016 20:38|  Negocio| Fort Pierce|    Fort Pierce|       48|         Entregas|\n|01-05-2016 17:31|01-05-2016 17:45|  Negocio| Fort Pierce|    Fort Pierce|       47|          Reunião|\n|01-06-2016 14:42|01-06-2016 15:49|  Negocio| Fort Pierce|West Palm Beach|      637|Visita ao cliente|\n+----------------+----------------+---------+------------+---------------+---------+-----------------+\nonly showing top 5 rows\nQuantidade de linhas e colunas:\nLinhas: 1153, Colunas: 7\nValores nulos por coluna:\n+-----------+--------+---------+------------+---------+---------+---------+\n|DATA_INICIO|DATA_FIM|CATEGORIA|LOCAL_INICIO|LOCAL_FIM|DISTANCIA|PROPOSITO|\n+-----------+--------+---------+------------+---------+---------+---------+\n|          0|       0|        0|           0|        0|        0|      502|\n+-----------+--------+---------+------------+---------+---------+---------+\n\nValores unicos em colunas categóricas:\n+---------+\n|CATEGORIA|\n+---------+\n|  Pessoal|\n|  Negocio|\n+---------+\n\n+-----------------+\n|        PROPOSITO|\n+-----------------+\n|         Entregas|\n|             NULL|\n|      Alimentação|\n|         Caridade|\n|Entre escritórios|\n|Parada temporária|\n|          Reunião|\n| Aeroporto/Viagem|\n|     Deslocamento|\n|Visita ao cliente|\n+-----------------+\n\nEstatísticas básicas da coluna DISTANCIA:\n+-------+------------------+\n|summary|         DISTANCIA|\n+-------+------------------+\n|  count|              1153|\n|   mean| 91.82827406764962|\n| stddev|193.97606434857082|\n|    min|                 1|\n|    max|              3103|\n+-------+------------------+\n\n"
     ]
    }
   ],
   "source": [
    "\n",
    "print(\"Esquema do DataFrame:\")\n",
    "bronze.printSchema()\n",
    "\n",
    "print(\"Exemplo de linhas:\")\n",
    "bronze.show(5)\n",
    "\n",
    "print(\"Quantidade de linhas e colunas:\")\n",
    "print(f\"Linhas: {bronze.count()}, Colunas: {len(bronze.columns)}\")\n",
    "\n",
    "print(\"Valores nulos por coluna:\")\n",
    "from pyspark.sql.functions import isnan\n",
    "bronze.select([count(when(col(c).isNull(), c)).alias(c) for c in bronze.columns]).show()\n",
    "\n",
    "print(\"Valores unicos em colunas categóricas:\")\n",
    "bronze.select(\"CATEGORIA\").distinct().show()\n",
    "bronze.select(\"PROPOSITO\").distinct().show()\n",
    "\n",
    "print(\"Estatísticas básicas da coluna DISTANCIA:\")\n",
    "bronze.select(\"DISTANCIA\").describe().show()\n"
   ]
  },
  {
   "cell_type": "markdown",
   "metadata": {
    "application/vnd.databricks.v1+cell": {
     "cellMetadata": {
      "byteLimit": 2048000,
      "rowLimit": 10000
     },
     "inputWidgets": {},
     "nuid": "c941617e-954d-41de-92c7-bb6cc19a944f",
     "showTitle": false,
     "tableResultSettingsMap": {},
     "title": ""
    }
   },
   "source": [
    "## 3. Tratamento de Datas (Silver) e Log de Erros\n",
    "\n",
    "Conversão de datas para timestamp, log dos registros inválidos e criação da coluna de referência."
   ]
  },
  {
   "cell_type": "code",
   "execution_count": 0,
   "metadata": {
    "application/vnd.databricks.v1+cell": {
     "cellMetadata": {
      "byteLimit": 2048000,
      "rowLimit": 10000
     },
     "inputWidgets": {},
     "nuid": "14ca8cb8-ff15-4b7d-9645-7df24bfbd3c3",
     "showTitle": false,
     "tableResultSettingsMap": {},
     "title": ""
    }
   },
   "outputs": [],
   "source": [
    "silver = bronze.withColumn(\n",
    "    \"DATA_INICIO_TS\",\n",
    "    expr(\"try_to_timestamp(DATA_INICIO, 'MM-dd-yyyy H:mm')\")\n",
    ")\n",
    "\n",
    "silver = silver.withColumn(\"DT_REFE\", date_format(col(\"DATA_INICIO_TS\"), \"yyyy-MM-dd\"))\n",
    "\n",
    "# Log para linhas com datas inválidas\n",
    "silver.filter(col(\"DATA_INICIO_TS\").isNull()).write.mode(\"overwrite\").parquet(PATH_LOGS)\n",
    "\n",
    "silver = silver.filter(col(\"DATA_INICIO_TS\").isNotNull())"
   ]
  },
  {
   "cell_type": "markdown",
   "metadata": {
    "application/vnd.databricks.v1+cell": {
     "cellMetadata": {
      "byteLimit": 2048000,
      "rowLimit": 10000
     },
     "inputWidgets": {},
     "nuid": "db4ab5c5-055b-4fcd-afc5-d5da42d874fa",
     "showTitle": false,
     "tableResultSettingsMap": {},
     "title": ""
    }
   },
   "source": [
    "## 4. Criação de Colunas Auxiliares\n",
    "\n",
    "Criação de colunas flags para agregações condicionais."
   ]
  },
  {
   "cell_type": "code",
   "execution_count": 0,
   "metadata": {
    "application/vnd.databricks.v1+cell": {
     "cellMetadata": {
      "byteLimit": 2048000,
      "rowLimit": 10000
     },
     "inputWidgets": {},
     "nuid": "25f26c8a-4199-4ee7-9e3a-7aba0bfb2621",
     "showTitle": false,
     "tableResultSettingsMap": {},
     "title": ""
    }
   },
   "outputs": [],
   "source": [
    "silver = silver.withColumn(\n",
    "    \"IS_NEGOCIO\", when(col(\"CATEGORIA\") == \"Negócio\", 1).otherwise(0)\n",
    ").withColumn(\n",
    "    \"IS_PESSOAL\", when(col(\"CATEGORIA\") == \"Pessoal\", 1).otherwise(0)\n",
    ").withColumn(\n",
    "    \"IS_REUNIAO\", when(col(\"PROPOSITO\") == \"Reunião\", 1).otherwise(0)\n",
    ").withColumn(\n",
    "    \"IS_NAO_REUNIAO\", when(\n",
    "        (col(\"PROPOSITO\").isNotNull()) & (col(\"PROPOSITO\") != \"Reunião\"),\n",
    "        1\n",
    "    ).otherwise(0)\n",
    ")\n",
    "\n",
    "# Salva os dados da camada Silver em formato parquet\n",
    "silver.write.mode(\"overwrite\").parquet(PATH_SILVER)"
   ]
  },
  {
   "cell_type": "code",
   "execution_count": 0,
   "metadata": {
    "application/vnd.databricks.v1+cell": {
     "cellMetadata": {
      "byteLimit": 2048000,
      "rowLimit": 10000
     },
     "inputWidgets": {},
     "nuid": "d5f9a9df-bbce-44fa-a2e8-bdebf9113590",
     "showTitle": false,
     "tableResultSettingsMap": {},
     "title": ""
    }
   },
   "outputs": [
    {
     "output_type": "stream",
     "name": "stdout",
     "output_type": "stream",
     "text": [
      "+----------------+----------------+---------+------------+---------------+---------+-----------------+-------------------+----------+----------+----------+----------+--------------+\n|     DATA_INICIO|        DATA_FIM|CATEGORIA|LOCAL_INICIO|      LOCAL_FIM|DISTANCIA|        PROPOSITO|     DATA_INICIO_TS|   DT_REFE|IS_NEGOCIO|IS_PESSOAL|IS_REUNIAO|IS_NAO_REUNIAO|\n+----------------+----------------+---------+------------+---------------+---------+-----------------+-------------------+----------+----------+----------+----------+--------------+\n|01-01-2016 21:11|01-01-2016 21:17|  Negocio| Fort Pierce|    Fort Pierce|       51|      Alimentação|2016-01-01 21:11:00|2016-01-01|         0|         0|         0|             1|\n|01-02-2016 01:25|01-02-2016 01:37|  Negocio| Fort Pierce|    Fort Pierce|        5|             NULL|2016-01-02 01:25:00|2016-01-02|         0|         0|         0|             0|\n|01-02-2016 20:25|01-02-2016 20:38|  Negocio| Fort Pierce|    Fort Pierce|       48|         Entregas|2016-01-02 20:25:00|2016-01-02|         0|         0|         0|             1|\n|01-05-2016 17:31|01-05-2016 17:45|  Negocio| Fort Pierce|    Fort Pierce|       47|          Reunião|2016-01-05 17:31:00|2016-01-05|         0|         0|         1|             0|\n|01-06-2016 14:42|01-06-2016 15:49|  Negocio| Fort Pierce|West Palm Beach|      637|Visita ao cliente|2016-01-06 14:42:00|2016-01-06|         0|         0|         0|             1|\n+----------------+----------------+---------+------------+---------------+---------+-----------------+-------------------+----------+----------+----------+----------+--------------+\nonly showing top 5 rows\n"
     ]
    }
   ],
   "source": [
    "silver.show(5)"
   ]
  },
  {
   "cell_type": "markdown",
   "metadata": {
    "application/vnd.databricks.v1+cell": {
     "cellMetadata": {
      "byteLimit": 2048000,
      "rowLimit": 10000
     },
     "inputWidgets": {},
     "nuid": "994df5cb-b4f5-4a53-8154-d36bb007bf75",
     "showTitle": false,
     "tableResultSettingsMap": {},
     "title": ""
    }
   },
   "source": [
    "## 5. Agregação das Métricas Diárias (Gold)\n",
    "\n",
    "Geração da tabela final agregada por data de referência."
   ]
  },
  {
   "cell_type": "code",
   "execution_count": 0,
   "metadata": {
    "application/vnd.databricks.v1+cell": {
     "cellMetadata": {
      "byteLimit": 2048000,
      "rowLimit": 10000
     },
     "inputWidgets": {},
     "nuid": "75bf03cd-6b07-4585-96a7-06a0aa0dfc53",
     "showTitle": false,
     "tableResultSettingsMap": {},
     "title": ""
    }
   },
   "outputs": [],
   "source": [
    "gold = silver.groupBy(\"DT_REFE\").agg(\n",
    "    count(\"*\").alias(\"QT_CORR\"),\n",
    "    spark_sum(\"IS_NEGOCIO\").alias(\"QT_CORR_NEG\"),\n",
    "    spark_sum(\"IS_PESSOAL\").alias(\"QT_CORR_PESS\"),\n",
    "    spark_max(\"DISTANCIA\").alias(\"VL_MAX_DIST\"),\n",
    "    spark_min(\"DISTANCIA\").alias(\"VL_MIN_DIST\"),\n",
    "    spark_avg(\"DISTANCIA\").alias(\"VL_AVG_DIST\"),\n",
    "    spark_sum(\"IS_REUNIAO\").alias(\"QT_CORR_REUNI\"),\n",
    "    spark_sum(\"IS_NAO_REUNIAO\").alias(\"QT_CORR_NAO_REUNI\"),\n",
    ")"
   ]
  },
  {
   "cell_type": "code",
   "execution_count": 0,
   "metadata": {
    "application/vnd.databricks.v1+cell": {
     "cellMetadata": {
      "byteLimit": 2048000,
      "rowLimit": 10000
     },
     "inputWidgets": {},
     "nuid": "a6403f90-a255-4988-9a24-75f168ceb360",
     "showTitle": false,
     "tableResultSettingsMap": {},
     "title": ""
    }
   },
   "outputs": [],
   "source": [
    "# Salva os dados da camada Gold em formato parquet\n",
    "gold.coalesce(1).write.csv(\n",
    "    PATH_GOLD,\n",
    "    sep=\";\",\n",
    "    header=True,\n",
    "    mode=\"overwrite\"\n",
    ")"
   ]
  },
  {
   "cell_type": "markdown",
   "metadata": {
    "application/vnd.databricks.v1+cell": {
     "cellMetadata": {
      "byteLimit": 2048000,
      "rowLimit": 10000
     },
     "inputWidgets": {},
     "nuid": "4d7bc5c0-66a7-40ed-89f9-b1a7c22164cb",
     "showTitle": false,
     "tableResultSettingsMap": {},
     "title": ""
    }
   },
   "source": [
    "## 6. Reanomeação do CSV de Saída e Verificação Final\n",
    "\n",
    "Salvando o arquivo com nome solicitado e checando sucesso do pipeline."
   ]
  },
  {
   "cell_type": "code",
   "execution_count": 0,
   "metadata": {
    "application/vnd.databricks.v1+cell": {
     "cellMetadata": {
      "byteLimit": 2048000,
      "rowLimit": 10000
     },
     "inputWidgets": {},
     "nuid": "e7b3b329-a5f9-4ce2-a8d1-38699a6e362b",
     "showTitle": false,
     "tableResultSettingsMap": {},
     "title": ""
    }
   },
   "outputs": [
    {
     "output_type": "stream",
     "name": "stdout",
     "output_type": "stream",
     "text": [
      "Arquivo renomeado para /Volumes/workspace/default/assignment-1/gold/info_corridas_do_dia.csv\n"
     ]
    }
   ],
   "source": [
    "files = dbutils.fs.ls(PATH_GOLD)\n",
    "\n",
    "# Renomeia o arquivo csv final\n",
    "csv_file = [f.path for f in files if f.name.startswith(\"part-\") and f.name.endswith(\".csv\")]\n",
    "if csv_file:\n",
    "    new_path = f\"{PATH_GOLD}/info_corridas_do_dia.csv\"\n",
    "    dbutils.fs.mv(csv_file[0], new_path)\n",
    "    print(f\"Arquivo renomeado para {new_path}\")\n",
    "\n",
    "    df_final = spark.read.csv(\n",
    "        new_path,\n",
    "        header=True,\n",
    "        inferSchema=True,\n",
    "        sep=\";\"\n",
    "    )\n",
    "else:\n",
    "    print(\"Nenhum arquivo CSV encontrado para renomear!!!\")"
   ]
  },
  {
   "cell_type": "code",
   "execution_count": 0,
   "metadata": {
    "application/vnd.databricks.v1+cell": {
     "cellMetadata": {
      "byteLimit": 2048000,
      "rowLimit": 10000
     },
     "inputWidgets": {},
     "nuid": "efe9c35b-0ab8-47b7-bac9-abf0473febe1",
     "showTitle": false,
     "tableResultSettingsMap": {},
     "title": ""
    }
   },
   "outputs": [
    {
     "output_type": "stream",
     "name": "stdout",
     "output_type": "stream",
     "text": [
      "Pipeline finalizado com sucesso!!! Arquivo _SUCCESS encontrado na saída.\nAmostra da tabela final:\n+----------+-------+-----------+------------+-----------+-----------+------------------+-------------+-----------------+\n|   DT_REFE|QT_CORR|QT_CORR_NEG|QT_CORR_PESS|VL_MAX_DIST|VL_MIN_DIST|       VL_AVG_DIST|QT_CORR_REUNI|QT_CORR_NAO_REUNI|\n+----------+-------+-----------+------------+-----------+-----------+------------------+-------------+-----------------+\n|2016-09-30|      2|          0|           0|        377|        167|             272.0|            0|                0|\n|2016-11-25|      2|          0|           0|        111|        103|             107.0|            2|                0|\n|2016-08-23|      8|          0|           0|        177|          5|            70.375|            0|                0|\n|2016-12-19|     11|          0|           0|        102|          7|              45.0|            1|                5|\n|2016-11-17|      1|          0|           0|        163|        163|             163.0|            0|                1|\n|2016-02-01|      3|          0|           0|        233|         39|155.33333333333334|            0|                3|\n|2016-07-02|      2|          0|           0|        101|         99|             100.0|            2|                0|\n|2016-11-16|      2|          0|           0|         31|         23|              27.0|            0|                2|\n|2016-08-07|      4|          0|           0|         27|         25|              26.0|            0|                2|\n|2016-07-14|      3|          0|           1|       1953|         33| 701.3333333333334|            0|                1|\n+----------+-------+-----------+------------+-----------+-----------+------------------+-------------+-----------------+\nonly showing top 10 rows\n"
     ]
    }
   ],
   "source": [
    "# Checagem de sucesso\n",
    "import os\n",
    "\n",
    "if any(f.name == '_SUCCESS' for f in dbutils.fs.ls(PATH_GOLD)):\n",
    "    print(\"Pipeline finalizado com sucesso!!! Arquivo _SUCCESS encontrado na saída.\")\n",
    "    \n",
    "    df_final = spark.read.csv(\n",
    "        PATH_GOLD,\n",
    "        header=True,\n",
    "        inferSchema=True,\n",
    "        sep=\";\"\n",
    "    )\n",
    "    print(\"Amostra da tabela final:\")\n",
    "    df_final.show(10)\n",
    "else:\n",
    "    print(\"Pipeline não finalizado corretamente!!! Arquivo _SUCCESS não encontrado.\")"
   ]
  }
 ],
 "metadata": {
  "application/vnd.databricks.v1+notebook": {
   "computePreferences": null,
   "dashboards": [],
   "environmentMetadata": {
    "base_environment": "",
    "environment_version": "2"
   },
   "inputWidgetPreferences": null,
   "language": "python",
   "notebookMetadata": {
    "pythonIndentUnit": 4
   },
   "notebookName": "pipeline_case_data_engineer",
   "widgets": {}
  },
  "language_info": {
   "name": "python"
  }
 },
 "nbformat": 4,
 "nbformat_minor": 0
}